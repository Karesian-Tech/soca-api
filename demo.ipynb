{
 "cells": [
  {
   "cell_type": "code",
   "execution_count": 1,
   "id": "bf96b464-eb64-47e2-9301-f2451404f755",
   "metadata": {},
   "outputs": [],
   "source": [
    "import hashlib\n",
    "import random"
   ]
  },
  {
   "cell_type": "code",
   "execution_count": 3,
   "id": "acd7274a-0760-4659-bb0e-6d94367cbb7f",
   "metadata": {},
   "outputs": [],
   "source": [
    "from src.common.base.entities.item import Item\n",
    "from src.common.utils import generateUUIDv4\n",
    "\n",
    "item_1 = Item(id=generateUUIDv4(), hash='asdasdas')"
   ]
  },
  {
   "cell_type": "code",
   "execution_count": 5,
   "id": "ec226bbc-f6ee-4818-8d84-f52a63167b5b",
   "metadata": {},
   "outputs": [
    {
     "name": "stdout",
     "output_type": "stream",
     "text": [
      "Item(id='ed8066fb246f47a9b12d19c2bac0b75c', hash='asdasdas')\n"
     ]
    }
   ],
   "source": [
    "print(item_1.to)"
   ]
  },
  {
   "cell_type": "code",
   "execution_count": 45,
   "id": "33c0ecde-02f9-4aba-8911-1dcbd0d70168",
   "metadata": {},
   "outputs": [
    {
     "name": "stdout",
     "output_type": "stream",
     "text": [
      "{'name': ['shee', 'name'], 'description': 'shee', 'created_at': datetime.datetime(2024, 3, 6, 18, 3, 28, 607635), 'updated_at': {'lte': datetime.datetime(2024, 3, 6, 18, 3, 28, 607640)}}\n"
     ]
    }
   ],
   "source": [
    "from pydantic import BaseModel\n",
    "from datetime import datetime\n",
    "from typing import TypeVar, Union, List, Generic, Dict\n",
    "a = {\n",
    "    \"name\": [\"shee\", \"name\"],\n",
    "    \"description\": \"shee\",\n",
    "    \"created_at\": datetime.now(),\n",
    "    \"updated_at\" : {\n",
    "        \"lte\": datetime.now()\n",
    "    }\n",
    "}\n",
    "\n",
    "T = TypeVar(\"T\")\n",
    "\n",
    "FieldRequest = T | Dict[str,T] | List[T]\n",
    "\n",
    "class Request(BaseModel):\n",
    "    name: FieldRequest[str]\n",
    "    description: FieldRequest[str]\n",
    "    created_at: FieldRequest[datetime]\n",
    "    updated_at: FieldRequest[datetime]\n",
    "\n",
    "A = Request.model_validate(a)\n",
    "\n",
    "print(A.model_dump())\n"
   ]
  }
 ],
 "metadata": {
  "kernelspec": {
   "display_name": "Python 3 (ipykernel)",
   "language": "python",
   "name": "python3"
  },
  "language_info": {
   "codemirror_mode": {
    "name": "ipython",
    "version": 3
   },
   "file_extension": ".py",
   "mimetype": "text/x-python",
   "name": "python",
   "nbconvert_exporter": "python",
   "pygments_lexer": "ipython3",
   "version": "3.10.13"
  }
 },
 "nbformat": 4,
 "nbformat_minor": 5
}
